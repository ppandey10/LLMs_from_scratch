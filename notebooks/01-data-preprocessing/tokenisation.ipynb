{
 "cells": [
  {
   "cell_type": "code",
   "execution_count": 2,
   "metadata": {},
   "outputs": [
    {
     "name": "stdout",
     "output_type": "stream",
     "text": [
      "torch version: 2.5.1\n",
      "tiktoken version: 0.9.0\n"
     ]
    }
   ],
   "source": [
    "from importlib.metadata import version\n",
    "\n",
    "print(\"torch version:\", version(\"torch\"))\n",
    "print(\"tiktoken version:\", version(\"tiktoken\"))"
   ]
  },
  {
   "cell_type": "code",
   "execution_count": 17,
   "metadata": {},
   "outputs": [
    {
     "name": "stdout",
     "output_type": "stream",
     "text": [
      "The Project Gutenberg eBook of The Post Office\n",
      "    \n",
      "This ebook is for the use of anyone anywhere in the United States and\n",
      "most other parts of the world at no cost and with almost no restrictions\n",
      "whatsoever. You may copy it, give it away or re-use it under the terms\n",
      "of the Project Gutenberg License included with this ebook or online\n",
      "at www.gutenberg.org. If you are not located in the United States,\n",
      "you will have to check the laws of the country where you are located\n",
      "before using this eBook.\n",
      "\n",
      "Titl\n"
     ]
    }
   ],
   "source": [
    "# data import\n",
    "with open(\"the_post_office.txt\", \"r\", encoding=\"utf-8\") as file:\n",
    "    text = file.read()\n",
    "\n",
    "print(text[:500])"
   ]
  },
  {
   "cell_type": "code",
   "execution_count": 18,
   "metadata": {},
   "outputs": [
    {
     "name": "stdout",
     "output_type": "stream",
     "text": [
      "58675\n"
     ]
    }
   ],
   "source": [
    "# total characters\n",
    "print(len(text))"
   ]
  },
  {
   "cell_type": "code",
   "execution_count": 19,
   "metadata": {},
   "outputs": [
    {
     "name": "stdout",
     "output_type": "stream",
     "text": [
      "['The', ' ', 'Project', ' ', 'Gutenberg', ' ', 'eBook', ' ', 'of', ' ', 'The', ' ', 'Post', ' ', 'Office', '\\n', '', ' ', '', ' ', '', ' ', '', ' ', '', '\\n', 'This', ' ', 'ebook', ' ', 'is', ' ', 'for', ' ', 'the', ' ', 'use', ' ', 'of', ' ', 'anyone', ' ', 'anywhere', ' ', 'in', ' ', 'the', ' ', 'United', ' ', 'States', ' ', 'and', '\\n', 'most', ' ', 'other', ' ', 'parts', ' ', 'of', ' ', 'the', ' ', 'world', ' ', 'at', ' ', 'no', ' ', 'cost', ' ', 'and', ' ', 'with', ' ', 'almost', ' ', 'no', ' ', 'restrictions', '\\n', 'whatsoever', '.', '', ' ', 'You', ' ', 'may', ' ', 'copy', ' ', 'it', ',', '', ' ', 'give', ' ', 'it', ' ', 'away', ' ', 'or', ' ', 're-use', ' ', 'it', ' ', 'under', ' ', 'the', ' ', 'terms', '\\n', 'of', ' ', 'the', ' ', 'Project', ' ', 'Gutenberg', ' ', 'License', ' ', 'included', ' ', 'with', ' ', 'this', ' ', 'ebook', ' ', 'or', ' ', 'online', '\\n', 'at', ' ', 'www', '.', 'gutenberg', '.', 'org', '.', '', ' ', 'If', ' ', 'you', ' ', 'are', ' ', 'not', ' ', 'located', ' ', 'in', ' ', 'the', ' ', 'United', ' ', 'States', ',', '', '\\n', 'you', ' ', 'will', ' ', 'have', ' ', 'to', ' ', 'check', ' ', 'the', ' ', 'laws', ' ', 'of', ' ', 'the', ' ', 'country', ' ', 'where', ' ', 'you', ' ', 'are', ' ', 'located', '\\n', 'before', ' ', 'using', ' ', 'this', ' ', 'eBook', '.', '', '\\n', '', '\\n', 'Title', ':', '', ' ', 'The', ' ', 'Post', ' ', 'Office', '\\n', '', '\\n', 'Author', ':', '', ' ', 'Rabindranath', ' ', 'Tagore', '\\n', '', '\\n', 'Translator', ':', '', ' ', 'Devabrata', ' ', 'Mukherjee', '\\n', '', '\\n', 'Release', ' ', 'date', ':', '', ' ', 'September', ' ', '1', ',', '', ' ', '2004', ' ', '[eBook', ' ', '#6523]', '\\n', '', ' ', '', ' ', '', ' ', '', ' ', '', ' ', '', ' ', '', ' ', '', ' ', '', ' ', '', ' ', '', ' ', '', ' ', '', ' ', '', ' ', '', ' ', '', ' ', 'Most', ' ', 'recently', ' ', 'updated', ':', '', ' ', 'March', ' ', '21', ',', '', ' ', '2024', '\\n', '', '\\n', 'Language', ':', '', ' ', 'English', '\\n', '', '\\n', 'Credits', ':', '', ' ', 'Produced', ' ', 'by', ' ', 'Eric', ' ', 'Eldred', ' ', 'and', ' ', 'Chetan', ' ', 'K', '.', '', ' ', 'Jain', '\\n', '', '\\n', '', '\\n', '***', ' ', 'START', ' ', 'OF', ' ', 'THE', ' ', 'PROJECT', ' ', 'GUTENBERG', ' ', 'EBOOK', ' ', 'THE', ' ', 'POST', ' ', 'OFFICE', ' ', '***', '\\n', '', '\\n', '', '\\n', '', '\\n', '', '\\n', '', '\\n', 'Produced', ' ', 'by', ' ', 'Eric', ' ', 'Eldred', ' ', 'and', ' ', 'Chetan', ' ', 'K', '.', '', ' ', 'Jain', '\\n', '', '\\n', '', '\\n', '', '\\n', '', '\\n', '', '\\n', '', '\\n', '', '\\n', '', '\\n', '', '\\n', 'The', ' ', 'Post', ' ', 'Office', '\\n', '', '\\n', '', '\\n', 'By', ' ', 'Rabindranath', ' ', 'Tagore', '\\n', '', '\\n', '', '\\n', '[Translated', ' ', 'from', ' ', 'Bengali', ' ', 'to', ' ', 'English', ' ', 'by', ' ', 'Devabrata', ' ', 'Mukherjee]', '\\n', '', '\\n', '[New', ' ', 'York', ':', '', ' ', 'The', ' ', 'Macmillan', ' ', 'Company', ',', '', ' ', '1914', '\\n', 'Copyright', ' ', '1914', ',', '', ' ', 'by', ' ', 'Mitchell', ' ', 'Kennerley', ';', '', '\\n', 'Copyright', ',', '', ' ', '1914', ' ', 'by', ' ', 'The', ' ', 'Macmillan', ' ', 'Company]', '\\n', '', '\\n', '', '\\n', '', '\\n', '', '\\n', 'DRAMATIS', ' ']\n"
     ]
    }
   ],
   "source": [
    "# get regular expressions\n",
    "import re\n",
    "\n",
    "preprocessed_text = re.split(r'([,.:;?_!\"()\\']|--|\\s)', text) # |: or\n",
    "print(preprocessed_text[:500])  "
   ]
  },
  {
   "cell_type": "code",
   "execution_count": 22,
   "metadata": {},
   "outputs": [
    {
     "name": "stdout",
     "output_type": "stream",
     "text": [
      "Total tokens: 28673\n",
      "Unique tokens: 2056\n"
     ]
    }
   ],
   "source": [
    "# total tokens\n",
    "print(\"Total tokens:\", len(preprocessed_text))\n",
    "\n",
    "# unique tokens\n",
    "print(\"Unique tokens:\", len(set(preprocessed_text)))\n"
   ]
  },
  {
   "cell_type": "code",
   "execution_count": 23,
   "metadata": {},
   "outputs": [
    {
     "name": "stdout",
     "output_type": "stream",
     "text": [
      "['', '\\n', ' ', '!', '\"', '#6523]', '$1', '$5', \"'\", '(', ')', '***', ',', '-', '--', '.', '000', '1', '1500', '1914', '2', '20%', '2001', '2004', '2024', '21', '3', '30', '4', '5', '50', '501', '596-1887', '6', '60', '64-6221541', '7', '8', '801', '809', '84116', '9', '90', ':', ';', '?', 'A', 'ACT', 'ACTUAL', 'AGREE', 'AGREEMENT', 'AMAL', 'AMAL]', 'AND', 'ANY', 'ANYTHING', 'ASCII”', 'About', 'Additional', 'Ah', 'Alas', 'All', 'Am', 'Amal', 'And', 'Any', 'Archive', 'Are', 'Aren', 'As', 'At', 'Auntie', 'Author', 'B', 'BE', 'BEFORE', 'BOY', 'BOYS', 'BREACH', 'BUT', 'Bad', 'Badal', 'Be', 'Bed]', 'Been', 'Before', 'Beg', 'Benay', 'Bengali', 'Better', 'Between', 'Bile', 'Blow', 'But', 'By', 'C', 'CONSEQUENTIAL', 'CONTRACT', 'CURTAIN', 'Can', 'Chakradhan', 'Champa', 'Chetan', 'Chyabana', 'City', 'Come', 'Company', 'Company]', 'Compliance', 'Contact', 'Contributions', 'Copyright', 'Creating', 'Credits', 'Cross', 'Curd', 'Curds', 'Curdseller', 'Cutting', 'D', 'DAIRYMAN', 'DAMAGE', 'DAMAGES', 'DIRECT', 'DISCLAIMER', 'DISTRIBUTE', 'DISTRIBUTOR', 'DOCTOR', 'DONATIONS', 'DRAMATIS', 'Dairyman', 'Daughter', 'Dear', 'Defect', 'Despite', 'Devabrata', 'Directly', 'Do', 'Doctor', 'Does', 'Don', 'Donations', 'Dong', 'E', 'EBOOK', 'EIN', 'END', 'EVEN', 'EXCEPT', 'EXPRESS', 'Early', 'Eh', 'Eldred', 'Else', 'Email', 'English', 'Enters', 'Eric', 'Even', 'Everybody', 'Everything', 'Except', 'F', 'FAKIR', 'FIRST', 'FITNESS', 'FOR', 'FOUNDATION', 'FULL', 'Fakir', 'Fancy', 'Feel', 'Fie', 'For', 'Formerly', 'Foundation', 'Foundation’s', 'Foundation”', 'From', 'Full', 'GAFFER', 'GAFFER]', 'GIRL', 'GIVE', 'GUTENBERG', 'GUTENBERG™', 'Gaffer', 'General', 'Get', 'God', 'Good', 'Gracious', 'Great', 'Guise]', 'Gutenberg', 'Gutenberg”', 'Gutenberg™', 'Gutenberg™’s', 'HAVE', 'HEADMAN', 'HEADMAN]', 'HERALD', 'Ha', 'Hark', 'Hart', 'Has', 'Have', 'He', 'Headman', 'Hello', 'Herald', 'Here', 'His', 'Hope', 'House]', 'How', 'However', 'Hullo', 'Hush', 'I', 'IF', 'II', 'IMPLIED', 'IN', 'INCIDENTAL', 'INCLUDING', 'INDEMNITY', 'INDIRECT', 'IRS', 'If', 'In', 'Indeed', 'Information', 'Internal', 'International', 'Is', 'Isle', 'It', 'Jain', 'Jatai', 'Jove', 'Just', 'K', 'KIND', 'KING', 'Kamlipara', 'Kennerley', 'King', 'LIABILITY', 'LIABLE', 'LICENSE', 'LIMITED', 'Lake', 'Language', 'Let', 'License', 'Listen', 'Literary', 'Look', 'MADHAV', 'MADHAV]', 'MERCHANTABILITY', 'Macmillan', 'Made', 'Madhav', 'Make', 'Many', 'March', 'Mayn', 'Meni', 'Michael', 'Mission', 'Mississippi', 'Mitchell', 'Most', 'Mr', 'Mukherjee', 'Mukherjee]', 'Mustn', 'My', 'NEGLIGENCE', 'NO', 'NOT', 'NOTICE', 'Nearly', 'Never', 'No', 'None', 'North', 'Not', 'Now', 'O', 'OF', 'OFFICE', 'OR', 'OTHER', 'OWNER', 'Of', 'Office', 'Oh', 'On', 'One', 'Only', 'Open', 'Otherwise', 'Our', 'Out', 'PARAGRAPH', 'PERSONÆ', 'PG', 'PGLAF', 'PHYSICIAN', 'PLEASE', 'POSSIBILITY', 'POST', 'PROJECT', 'PROVIDED', 'PUNITIVE', 'PURPOSE', 'Palace', 'Panch-mura', 'Panchanan', 'Parrots', 'Parul', 'People', 'Physician', 'Please', 'Poor', 'Post', 'Postman', 'Produced', 'Professor', 'Project', 'Puffed', 'READ', 'REFUND', 'REMEDIES', 'REPLACEMENT', 'RIGHT', 'ROYAL', 'Rabindranath', 'Rain', 'Really', 'Redistributing', 'Redistribution', 'Refund”', 'Release', 'Remember', 'Replacement', 'Revenue', 'Right', 'Royalty', 'Râmayana', 'S', 'SECOND', 'SEND', 'START', 'STATE', 'STRICT', 'SUCH', 'SUDHA', 'Salt', 'Sarat', 'Sasi', 'Say', 'Section', 'Sections', 'See', 'September', 'Service', 'Sh', 'Shamli', 'Should', 'Shouldn', 'Shut', 'Silence', 'Since', 'Sleep', 'So', 'Some', 'Sovereign', 'Spare', 'Special', 'States', 'Stop', 'Sudha', 'Suppose', 'Surely', 'THAT', 'THE', 'THIRD', 'THIS', 'THOSE', 'TO', 'TRADEMARK', 'TROOP', 'Tagore', 'Teach', 'Tell', 'Terms', 'That', 'The', 'Then', 'There', 'They', 'This', 'Though', 'Thus', 'Time', 'Title', 'To', 'Translator', 'Try', 'U', 'UNDER', 'USE', 'UT', 'Ugh', 'Uncle', 'United', 'Unless', 'Updated', 'Upon', 'Use', 'VILLAGE', 'VOICE', 'Vanilla', 'Very', 'Victory', 'Volunteers', 'WARRANTIES', 'WARRANTY', 'WATCHMAN', 'WILL', 'WITH', 'WORK', 'Wait', 'Watchman', 'We', 'Well', 'Were', 'West', 'What', 'Whatever', 'When', 'Where', 'Whereabouts', 'While', 'Who', 'Whoever', 'Whose', 'Why', 'Will', 'Wish', 'With', 'Women', 'Won', 'Would', 'Wouldn', 'YOU', 'Yes', 'York', 'You', 'Your', '[A', '[AMAL', '[Addressing', '[Aside', '[Clapping]', '[DOCTOR', '[Exeunt', '[Exit', '[Exit]', '[Fanning', '[Feeling', '[From', '[GAFFER', '[Indicating', '[Intoning]', '[Looking', '[Lowering', '[MADHAV', '[New', '[Peering', '[Rising', '[STATE', '[SUDHA', '[Showing', '[Slapping', '[Starting', '[THE', '[Taking', '[The', '[To', '[Transcriber', '[Translated', '[Whispering', '[Winking', '[With', '[eBook', '[showing', ']', 'a', 'abide', 'about', 'above', 'accept', 'accepted', 'accepting', 'access', 'accessed', 'accessible', 'accord', 'accordance', 'account', 'aches', 'across', 'act', 'active', 'addition', 'additional', 'additions', 'address', 'addresses', 'adopt', 'adopted', 'advent', 'advices', 'affair', 'afraid', 'after', 'again', 'against', 'age', 'agent', 'ago', 'agree', 'agreed', 'agreement', 'ain', 'air', 'alike', 'all', 'allow', 'almost', 'alms', 'alone', 'along', 'already', 'also', 'alteration', 'alternate', 'always', 'am', 'among', 'an', 'and', 'angry', 'anklets', 'anonymously', 'another', 'answered', 'anxious', 'any', 'anyone', 'anything', 'anywhere', 'appear', 'appearing', 'appears', 'applicable', 'apply', 'approach', 'are', 'aren', 'arise', 'arrange', 'array', 'as', 'ask', 'asked', 'asleep', 'assistance', 'associated', 'astonishing', 'at', 'attached', 'attend', 'autumn', 'available', 'awake', 'aware', 'away', 'away—you', 'awfully', 'b', 'back', 'bad', 'badges', 'bag', 'bamboo', 'band', 'bank', 'banyan', 'bar', 'barrier', 'based', 'basket', 'be', 'beat', 'beaten', 'beats', 'because', 'beckons', 'becomes', 'bed', 'bedside', 'been', 'before', 'beg', 'began', 'beginning', 'being', 'below', 'bend', 'beseech', 'best', 'better', 'between', 'beyond', 'big', 'biggest', 'bigwigs', 'bills', 'binary', 'bird', 'birds', 'bit', 'bite', 'black', 'blank', 'bless', 'blood', 'blown', 'body', 'body]', 'book-learning', 'books', 'bore', 'bosom', 'both', 'bother', 'bound', 'bow', 'boy', 'boys', 'branch', 'branches', 'brand', 'brass', 'bride', 'bring', 'broken', 'brother', 'brothers', 'brought', 'build', 'bully', 'bundle', 'business', 'busy', 'busy-body', 'but', 'buy', 'by', 'c', 'cabin', 'calculate', 'calculated', 'call', 'called', 'calling', 'calls', 'came', 'can', 'cannot', 'card', 'care', 'carefully', 'carries', 'carry', 'case', 'catches', 'cattle', 'cause', 'cease', 'ceased', 'certain', 'champa', 'change', 'chaps', 'charge', 'charges', 'charitable', 'charities', 'chats', 'check', 'checks', 'chests', 'child', 'children', 'chirps', 'choose', 'chum', 'circumstances', 'city', 'claim', 'clear', 'clearly', 'climbing', 'clings', 'close', 'cloth', 'codes', 'cold', 'collection', 'come', 'comes', 'coming', 'commanded', 'commercial', 'committed', 'common', 'compilation', 'compliance', 'comply', 'complying', 'compressed', 'computer', 'computers', 'concept', 'concerning', 'confirmation', 'confirmed', 'considerable', 'constant', 'contact', 'contain', 'containing', 'contributions', 'convert', 'copied', 'copies', 'copy', 'copying', 'copyright', 'corporation', 'corrupt', 'cost', 'costs', 'cottage', 'could', 'couldn', 'counting', 'countries', 'country', 'course', 'courtyard', 'cow', 'cow-house', 'cows', 'crazy', 'created', 'creating', 'creation', 'creature', 'credit', 'cricket', 'critical', 'cross', 'crossed', 'crossing', 'crowd', 'crunching', 'cruse', 'cry', 'curd', 'curds', 'curious', 'curled', 'current', 'cutting', 'd', 'dairy', 'dairyman', 'damage', 'damaged', 'damages', 'damp', 'dance', 'dances', 'dancing', 'dare', 'dark', 'darkening', 'darkness', 'darling', 'data', 'date', 'day', 'days', 'dear', 'deductible', 'defect', 'defective', 'deletions', 'delicious', 'delivering', 'demand', 'dense', 'depends', 'derivative', 'derive', 'derived', 'described', 'destroy', 'detach', 'determine', 'devil', 'devilish', 'diamonds', 'did', 'didn', 'different', 'ding', 'directly', 'dirty', 'disappears', 'disclaim', 'disclaimer', 'disclaimers', 'discontinue', 'discover', 'discovered', 'disk', 'display', 'displayed', 'displaying', 'distribute', 'distributed', 'distributing', 'distribution', 'do', 'doctor', 'does', 'doesn', 'doggie', 'doing', 'doll', 'domain', 'don', 'donate', 'donation', 'donations', 'done', 'dong', 'donors', 'door', 'doors', 'dose', 'down', 'downloading', 'draught', 'draw', 'dream', 'dressed', 'drop', 'dropping', 'drops', 'dust', 'dying', 'e-mail', 'eBook', 'eBooks', 'each', 'ear', 'ear]', 'early', 'earned', 'earning', 'ears', 'earth', 'earthen', 'easily', 'easy', 'eat', 'eaves', 'ebook', 'edition', 'editions', 'educational', 'effect', 'effort', 'efforts', 'eh', 'either', 'elect', 'electronic', 'electronically', 'else', 'email', 'employee', 'employees', 'end', 'enough', 'ensuring', 'enter]', 'enters]', 'entity', 'equipment', 'errands', 'error', 'errors', 'especially', 'even', 'evening', 'evenings', 'ever', 'every', 'everybody', 'everyday', 'everyone', 'everything', 'everywhere', 'exactly', 'except', 'exclusion', 'exempt', 'exists', 'expect', 'expecting', 'expend', 'expense', 'expenses', 'explanation', 'exporting', 'exposure', 'extent', 'eyes', 'face', 'facility', 'fair', 'fairy', 'fakir', 'fakirs', 'falls', 'false', 'family', 'fancy', 'far', 'far-away', 'fare', 'farther', 'fastened', 'fate', 'father', 'fear', 'fearful', 'federal', 'fee', 'feed', 'feel', 'feeling', 'feels', 'fees', 'feet', 'fellow', 'felt', 'fetch', 'few', 'field', 'fig', 'file', 'files', 'fill', 'filled', 'financial', 'find', 'finding', 'fine', 'first', 'fix', 'fixed', 'flag', 'flesh', 'fling', 'flock', 'flourish', 'flower', 'flower-seller', 'flowers', 'flows', 'fly', 'flying', 'foam', 'folded', 'folding', 'follow', 'follower', 'following', 'foolish', 'foot', 'footmen', 'footpath', 'for', 'forehead]', 'forest', 'forever', 'forget', 'forgotten', 'form', 'format', 'formats', 'forth', 'forty', 'found', 'fourth', 'free', 'freely', 'fresh', 'fret', 'friend', 'friends', 'from', 'front', 'full', 'further', 'fussy', 'future', 'game', 'garlands', 'gate', 'gates', 'gather', 'gathering', 'generations', 'get', 'getting', 'gift', 'gilt', 'girl', 'give', 'given', 'glad', 'glorious', 'glow', 'go', 'goals', 'goes', 'going', 'golden', 'gone', 'gong', 'good', 'goodness', 'gorgeous', 'gossiping', 'got', 'gout', 'govern', 'grains', 'gram-flour', 'granted', 'gratefully', 'grazing', 'great', 'greater', 'greatest', 'green', 'grinds', 'gross', 'group', 'grow', 'grown', 'guess', 'gutenberg', 'ha', 'had', 'hand', 'hands', 'happen', 'happened', 'happens', 'happy', 'hard', 'hard]', 'harmless', 'harping', 'has', 'hastily]', 'hated', 'haunt', 'have', 'haven', 'having', 'hawk', 'hawker', 'he', 'head', 'headman', 'heads', 'heaping', 'hear', 'hears', 'heart', 'heat', 'heavens', 'help', 'her', 'here', 'hermit', 'high', 'highway', 'hill', 'hills', 'hillside', 'him', 'himself', 'his', 'hobnob', 'hold', 'holder', 'holding', 'home', 'homesick', 'honey-sipping', 'hope', 'hopping', 'hour', 'house', 'household', 'how', 'huge', 'humble', 'hummingbird', 'hundreds', 'hurtful', 'hypertext', 'idea', 'identification', 'identify', 'if', 'ill', 'immediate', 'implied', 'important', 'imposed', 'impudence', 'in', 'inaccurate', 'include', 'included', 'includes', 'including', 'incomplete', 'increasing', 'indeed', 'indemnify', 'indicate', 'indicating', 'indirectly', 'individual', 'indoors', 'infancy', 'information', 'infringement', 'instinct', 'intellectual', 'interpreted', 'into', 'invalidity', 'is', 'isn', 'it', 'its', 'jar', 'jaundice', 'jests', 'jiggered', 'jingle', 'job', 'jobs', 'joins', 'joke', 'jokes', 'jolly', 'journey', 'joy', 'just', 'keep', 'keeping', 'keeps', 'kept', 'kidnapped', 'kings', 'kites', 'knees', 'knew', 'knocking', 'know', 'knows', 'lack', 'lamp', 'land', 'lands', 'lane', 'lantern', 'large', 'last', 'late', 'later', 'law', 'laws', 'leaden', 'learn', 'learned', 'least', 'leave', 'leaves', 'left', 'legal', 'legally', 'lentils', 'let', 'lets', 'letter', 'letters', 'letting', 'liability', 'library', 'license', 'licensed', 'lie', 'lies', 'lieu', 'life', 'like', 'likes', 'limitation', 'limited', 'line', 'linked', 'links', 'listen', 'little', 'live', 'll', 'located', 'locations', 'lock', 'loggerheads', 'long', 'longer', 'look', 'looked', 'looking', 'looks', 'loose', 'lose', 'loss', 'lost', 'lot', 'lounge', 'love', 'lovely', 'loves', 'lucky', 'lying', 'm', 'machine-readable', 'made', 'magic', 'main', 'maintaining', 'make', 'makes', 'making', 'man', 'manage', 'manager', 'many', 'march', 'marked', 'marry', 'matter', 'mattered', 'maximum', 'may', 'mayn', 'me', 'meadow', 'meal', 'means', 'meant', 'medical', 'medicine', 'medium', 'meet', 'melts', 'mentioned', 'mentions', 'mere', 'merrily', 'message', 'messages', 'met', 'method', 'methods', 'midday', 'middle', 'middle-aged', 'might', 'milk', 'mind', 'minds', 'mine', 'mission', 'mock', 'modification', 'modified', 'moil', 'moistened', 'molten', 'moment', 'money', 'monkey', 'more', 'morning', 'most', 'mother', 'mountain', 'move', 'much', 'mud', 'musket', 'must', 'mustn', 'my', 'myself', 'name', 'names', 'narrow', 'naughty', 'near', 'nearer', 'nearly', 'necessarily', 'need', 'needs', 'neither', 'nervous', 'nests', 'network', 'never', 'new', 'news', 'newsletter', 'nice', 'nicely', 'niece', 'nieces', 'night', 'nights', 'no', 'noise', 'non-profit', 'none', 'nonproprietary', 'nonsense', 'noon', 'noonday', 'nor', 'nose', 'not', 'note', 'notes', 'nothing', 'notice', 'notifies', 'now', 'nowadays', 'number', 'observed', 'observes', 'obsolete', 'obtain', 'obtaining', 'occur', 'of', 'off', 'offerings', 'offers', 'office', 'official', 'often', 'oh', 'oil-lamp', 'old', 'omens', 'on', 'once', 'one', 'ones', 'one—the', 'online', 'only', 'open', 'opportunities', 'opportunity', 'or', 'order', 'org', 'org/contact', 'org/donate', 'org/license', 'organized', 'organs', 'original', 'originator', 'other', 'others', 'our', 'out', 'outdated', 'outside', 'outside]', 'over', 'owed', 'own', 'owner', 'owns', 'oxen', 'padishahs', 'page', 'pages', 'paid', 'pain', 'pair', 'palatable', 'pale', 'palm-leaf', 'palms', 'palms]', 'palsey', 'paper', 'paper]', 'paperwork', 'paragraph', 'paragraphs', 'part', 'particular', 'particularly', 'parts', 'party', 'pass', 'passion', 'patient', 'pay', 'paying', 'payments', 'pearl', 'pebbles', 'peculiar', 'people', 'perform', 'performances', 'performed', 'performing', 'periodic', 'permanent', 'permission', 'permitted', 'person', 'pet', 'phrase', 'physical', 'physician', 'pick', 'picking', 'piece', 'pile', 'pillow', 'pining', 'pitchers', 'place', 'plainly', 'planted', 'plants', 'play', 'please', 'pleased]', 'pleasure', 'ploughmen', 'ploughshare', 'point', 'poking', 'polar', 'poor', 'possessed', 'possession', 'possible', 'posted', 'postman', 'postmen', 'pot', 'practically', 'pray', 'prepare', 'presently', 'preserve', 'prevent', 'previous', 'print', 'printed', 'problem', 'processing', 'produce', 'produced', 'production', 'profits', 'prohibition', 'prominently', 'promise', 'promoting', 'promotion', 'proofread', 'properly', 'property', 'proprietary', 'prospect', 'protect', 'protected', 'provide', 'provided', 'providing', 'provision', 'provisions', 'public', 'puffed', 'purpose', 'pussycat', 'put', 'quality', 'queer', 'quiet', 'quirn', 'quite', 'rain', 'raises', 'rather', 'rays', 're', 're-use', 'reaches', 'reaching', 'read', 'readable', 'reading', 'reads', 'really', 'reasonable', 'receipt', 'receive', 'received', 'receiving', 'recently', 'reckoning', 'red', 'redistribute', 'redistributing', 'redistribution', 'reed', 'references', 'refund', 'registered', 'regulating', 'remain', 'remaining', 'remember', 'remove', 'removed', 'renamed', 'replace', 'replacement', 'reported', 'reports', 'representations', 'request', 'require', 'required', 'requirements', 'research', 'restrictions', 'return', 'returns', 'reverence', 'rice', 'rich', 'right', 'rigmarole', 'rings', 'river', 'road', 'roadside', 'robbers', 'rocks', 'room', 'round', 'rounds', 'row', 'royalties', 'royalty', 'ruin', 'rules', 'rumored', 'run', 'running', 'rush', 'rye', 's', 's/he', 'sad', 'sage', 'said', 'sail', 'sailing', 'sake', 'same', 'saree', 'sarees', 'save', 'saved', 'saving', 'say', 'saying', 'says', 'scold', 'scolding', 'scriptures', 'scrupulous', 'sea', 'search', 'second', 'secrets', 'secure', 'see', 'seek', 'seeking', 'seem', 'seems', 'seen', 'self', 'sell', 'selling', 'send', 'sending', 'sends', 'sense', 'sent', 'sentence', 'sepoy', 'sepoys', 'serious', 'set', 'seven', 'several', 'sh', 'shadow', 'shall', 'shan', 'share', 'shared', 'sharing', 'she', 'shine', 'ship', 'shoes', 'shortly', 'should', 'shoulder', 'shouldered', 'shouldn', 'show', 'shrill', 'shut', 'sickness', 'side', 'sigh]', 'sight', 'sign', 'signal', 'silent', 'silly', 'simply', 'since', 'sing', 'single', 'sister', 'sit', 'sits', 'sitting', 'six', 'sky', 'sleep', 'sleeping', 'sleeps', 'sleepy', 'slip', 'slope', 'slowly', 'slumber', 'slumbers', 'small', 'smashed', 'smile', 'snipe', 'snipper-snapper', 'snuff]', 'so', 'solicit', 'solicitation', 'some', 'somebody', 'someone', 'something', 'sometimes', 'son', 'sort', 'soul', 'sound', 'sounding', 'sounds', 'spare', 'speak', 'speaking', 'specified', 'splendid', 'spring', 'squat', 'squatting', 'squirrel', 'staff', 'staggers', 'stand', 'standing', 'stands', 'star', 'star-light', 'stars', 'start', 'started', 'state', 'statements', 'states', 'state’s', 'statue', 'status', 'stay', 'stems', 'stick', 'stick]', 'still', 'stir', 'stones', 'stop', 'stopped', 'stored', 'story', 'straight', 'strain', 'stranger', 'strangers', 'stream', 'streams', 'strike', 'strikes', 'strong', 'stupid', 'subject', 'subscribe', 'such', 'sudden', 'sugarcane', 'sugarcanes', 'sun', 'sunset', 'support', 'suppose', 'sure', 'surely', 'surer', 'survive', 'swamp', 'swell', 'swoon', 'synonymous', 'system', 'sâree', 't', 'tabor', 'tail', 'tails', 'take', 'takes', 'tale', 'tales', 'talk', 'talking', 'tall', 'tasteless', 'taught', 'tax', 'taxes', 'teach', 'tears', 'tell', 'tells', 'tempts', 'terms', 'terror', 'texts', 'than', 'that', 'the', 'thee', 'their', 'them', 'then', 'there', 'these', 'they', 'thin', 'thing', 'things', 'think', 'thinnest', 'this', 'those', 'though', 'thought', 'three', 'through', 'tied', 'ties', 'till', 'time', 'times', 'tinkle', 'tiny', 'tired', 'to', 'to-day', 'to-morrow', 'to-night', 'toil', 'told', 'tolls', 'tone', 'too', 'took', 'top', 'topmost', 'torrent', 'town', 'toys', 'trademark', 'trademark/copyright', 'tramp', 'transcribe', 'transcription', 'travelling', 'treatment', 'tree', 'trees', 'trifling', 'trotting', 'trouble', 'true', 'truest', 'trumpet', 'tucked', 'tune', 'turn', 'twinkling', 'two', 'types', 'umbrella', 'unbeliever', 'uncle', 'uncommon', 'under', 'understand', 'unenforceability', 'unexpectedly', 'uniform', 'unless', 'unlink', 'unpleasant', 'unprotected', 'unsolicited', 'until', 'up', 'up]', 'updated', 'upon', 'upright', 'urchin', 'us', 'use', 'used', 'user', 'using', 'utmost', 'vain', 'variety', 've', 'veins', 'version', 'very', 'viewed', 'viewing', 'village', 'violates', 'virus', 'visit', 'visitors', 'voice', 'voices', 'void', 'volunteer', 'volunteers', 'wading', 'wagging', 'wait', 'waiting', 'waits', 'wake', 'walk', 'walking', 'walks', 'wall', 'wander', 'want', 'war', 'warm', 'warned', 'warranties', 'was', 'washed', 'wasn', 'waste', 'watch', 'watched', 'watches', 'watching', 'watchman', 'water', 'waterfall', 'waterfalls', 'waves', 'way', 'ways', 'we', 'weave', 'web', 'website', 'wed', 'wedding', 'wee', 'well', 'were', 'what', 'whatever', 'whatsoever', 'wheezing', 'when', 'whenever', 'where', 'which', 'while', 'whisper', 'who', 'whoever', 'whole', 'whom', 'why', 'wide', 'widespread', 'widest', 'wife', 'will', 'wince', 'winces', 'wind', 'winding', 'window', 'window]', 'windows', 'wings', 'wipe', 'wish', 'with', 'within', 'without', 'women', 'won', 'wonder', 'wonderful', 'wonders', 'word', 'work', 'working', 'works', 'world', 'worn', 'worry', 'worse', 'would', 'wouldn', 'wretched', 'write', 'writes', 'writing', 'written', 'www', 'years', 'yelling', 'yes', 'yesterday', 'yet', 'yoke', 'yoke-pole]', 'you', 'young', 'your', 'yours', 'yourself', '‘AS-IS’', '“Defects', '“Information', '“Plain', '“Project', '“Right', '“the', '”', '•']\n"
     ]
    }
   ],
   "source": [
    "# looking at the sorted token\n",
    "print(sorted(set(preprocessed_text)))"
   ]
  },
  {
   "cell_type": "code",
   "execution_count": 24,
   "metadata": {},
   "outputs": [],
   "source": [
    "# construct vocab\n",
    "vocab = sorted(set(preprocessed_text))\n",
    "\n",
    "# assign unique token ids to tokens\n",
    "token_to_id = {token: i for i, token in enumerate(vocab)}"
   ]
  },
  {
   "cell_type": "code",
   "execution_count": 28,
   "metadata": {},
   "outputs": [
    {
     "name": "stdout",
     "output_type": "stream",
     "text": [
      "('', 0)\n",
      "('\\n', 1)\n",
      "(' ', 2)\n",
      "('!', 3)\n",
      "('\"', 4)\n",
      "('#6523]', 5)\n",
      "('$1', 6)\n",
      "('$5', 7)\n",
      "(\"'\", 8)\n",
      "('(', 9)\n",
      "(')', 10)\n",
      "('***', 11)\n",
      "(',', 12)\n",
      "('-', 13)\n",
      "('--', 14)\n",
      "('.', 15)\n",
      "('000', 16)\n",
      "('1', 17)\n",
      "('1500', 18)\n",
      "('1914', 19)\n",
      "('2', 20)\n",
      "('20%', 21)\n"
     ]
    }
   ],
   "source": [
    "# lookking at the sorted tokens and their assigned id\n",
    "for i, item in enumerate(token_to_id.items()):\n",
    "    print(item)\n",
    "    if i > 20:\n",
    "        break"
   ]
  },
  {
   "cell_type": "code",
   "execution_count": null,
   "metadata": {},
   "outputs": [],
   "source": [
    "# create tokenizer class\n",
    "class nakliTokenizer:\n",
    "    def __init__(self, vocab):\n",
    "        self.str_to_int = vocab\n",
    "        self.int_to_str = {v: k for k, v in vocab.items()}\n",
    "\n",
    "    def encode(self, text: str) -> list[int]:\n",
    "        preprocessed = re.split(r'([,.:;?_!\"()\\']|--|\\s)', text)\n",
    "        preprocessed = [\n",
    "            item.strip() for item in preprocessed if item.strip()\n",
    "        ]\n",
    "        ids = [self.str_to_int[s] for s in preprocessed]\n",
    "        return ids\n",
    "\n",
    "    def decode(self, ids: list[int]) -> str:\n",
    "        text = \" \".join([self.int_to_str[i] for i in ids])\n",
    "        # Replace spaces before the specified punctuations\n",
    "        text = re.sub(r'\\s+([,.?!\"()\\'])', r'\\1', text)\n",
    "        return text"
   ]
  }
 ],
 "metadata": {
  "kernelspec": {
   "display_name": "LLMs",
   "language": "python",
   "name": "python3"
  },
  "language_info": {
   "codemirror_mode": {
    "name": "ipython",
    "version": 3
   },
   "file_extension": ".py",
   "mimetype": "text/x-python",
   "name": "python",
   "nbconvert_exporter": "python",
   "pygments_lexer": "ipython3",
   "version": "3.10.16"
  }
 },
 "nbformat": 4,
 "nbformat_minor": 2
}
