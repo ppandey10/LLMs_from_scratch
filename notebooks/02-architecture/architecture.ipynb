{
 "cells": [
  {
   "cell_type": "markdown",
   "metadata": {},
   "source": [
    "![logo](/home/ge73qip/LLMs/LLMs_from_scratch/notebooks/02-architecture/gpt_vs_llama.png)"
   ]
  },
  {
   "cell_type": "markdown",
   "metadata": {},
   "source": []
  }
 ],
 "metadata": {
  "language_info": {
   "name": "python"
  }
 },
 "nbformat": 4,
 "nbformat_minor": 2
}
